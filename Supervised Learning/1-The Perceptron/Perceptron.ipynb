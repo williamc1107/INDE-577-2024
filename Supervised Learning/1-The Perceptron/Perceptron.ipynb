{
 "cells": [
  {
   "cell_type": "markdown",
   "metadata": {},
   "source": [
    "# Predicting Survival on the Titanic with a Perceptron Model\n",
    "\n",
    "## Introduction\n",
    "\n",
    "The Perceptron is often considered one of the earliest and simplest types of artificial neural networks, and it forms the bedrock of many modern machine learning algorithms. Developed in 1957 by Frank Rosenblatt, the Perceptron represents a foundational model in machine learning, valued for its simplicity and effectiveness in binary classification tasks.\n",
    "\n",
    "At its core, the Perceptron is a single-layer linear classifier, which operates on the principle of a linear decision boundary. This means that it draws a straight line (or a hyperplane in higher dimensions) to separate data points into two classes. The model takes a set of input signals and produces an output signal using a linear predictor function combining a set of weights with the feature vector. It is a single neuron model with the sign activation function as depicted in the figure below.\n",
    "\n",
    "![Perceptron Model](ThePerceptronImage.png)\n",
    "\n",
    "The Perceptron's simplicity lies in its single neuron structure, which mimics the biological neuron's function. It takes multiple binary inputs, processes them through weighted summation, and passes them through an activation function, which, in the case of the Perceptron, is typically a step function known as the sign activation function. The output is binary, corresponding to one of the two classes, hence its utility in binary classification problems.\n",
    "\n",
    "As a binary classifier, the Perceptron is particularly suited to problems where classes can be separated linearly. It determines the side of the decision boundary on which an input sample falls and associates it with a class label.\n",
    "\n",
    "In the context of this analysis, we will apply the Perceptron to a dataset known as the Titanic dataset. This dataset chronicles the survival status of individual passengers aboard the ill-fated maiden voyage of the RMS Titanic. It contains a range of features including socio-economic factors, demographics, and passenger information such as class, sex, age, and more.\n",
    "\n",
    "Our task is to predict a binary outcome—whether a passenger survived or did not survive the disaster. We'll process and feed these features into the Perceptron and let it learn the patterns that might suggest a passenger's likelihood of survival. Through this process, we aim to gain insights into the survival factors on the Titanic, all the while exploring the workings and applications of this classic machine learning model.\n"
   ]
  },
  {
   "cell_type": "code",
   "execution_count": 1,
   "metadata": {},
   "outputs": [
    {
     "name": "stderr",
     "output_type": "stream",
     "text": [
      "/Users/williamc1107/opt/anaconda3/lib/python3.9/site-packages/scipy/__init__.py:146: UserWarning: A NumPy version >=1.17.3 and <1.25.0 is required for this version of SciPy (detected version 1.26.4\n",
      "  warnings.warn(f\"A NumPy version >={np_minversion} and <{np_maxversion}\"\n"
     ]
    },
    {
     "data": {
      "text/html": [
       "<div>\n",
       "<style scoped>\n",
       "    .dataframe tbody tr th:only-of-type {\n",
       "        vertical-align: middle;\n",
       "    }\n",
       "\n",
       "    .dataframe tbody tr th {\n",
       "        vertical-align: top;\n",
       "    }\n",
       "\n",
       "    .dataframe thead th {\n",
       "        text-align: right;\n",
       "    }\n",
       "</style>\n",
       "<table border=\"1\" class=\"dataframe\">\n",
       "  <thead>\n",
       "    <tr style=\"text-align: right;\">\n",
       "      <th></th>\n",
       "      <th>survived</th>\n",
       "      <th>pclass</th>\n",
       "      <th>sex</th>\n",
       "      <th>age</th>\n",
       "      <th>sibsp</th>\n",
       "      <th>parch</th>\n",
       "      <th>fare</th>\n",
       "      <th>embarked</th>\n",
       "      <th>class</th>\n",
       "      <th>who</th>\n",
       "      <th>adult_male</th>\n",
       "      <th>deck</th>\n",
       "      <th>embark_town</th>\n",
       "      <th>alive</th>\n",
       "      <th>alone</th>\n",
       "    </tr>\n",
       "  </thead>\n",
       "  <tbody>\n",
       "    <tr>\n",
       "      <th>0</th>\n",
       "      <td>0</td>\n",
       "      <td>3</td>\n",
       "      <td>male</td>\n",
       "      <td>22.0</td>\n",
       "      <td>1</td>\n",
       "      <td>0</td>\n",
       "      <td>7.2500</td>\n",
       "      <td>S</td>\n",
       "      <td>Third</td>\n",
       "      <td>man</td>\n",
       "      <td>True</td>\n",
       "      <td>NaN</td>\n",
       "      <td>Southampton</td>\n",
       "      <td>no</td>\n",
       "      <td>False</td>\n",
       "    </tr>\n",
       "    <tr>\n",
       "      <th>1</th>\n",
       "      <td>1</td>\n",
       "      <td>1</td>\n",
       "      <td>female</td>\n",
       "      <td>38.0</td>\n",
       "      <td>1</td>\n",
       "      <td>0</td>\n",
       "      <td>71.2833</td>\n",
       "      <td>C</td>\n",
       "      <td>First</td>\n",
       "      <td>woman</td>\n",
       "      <td>False</td>\n",
       "      <td>C</td>\n",
       "      <td>Cherbourg</td>\n",
       "      <td>yes</td>\n",
       "      <td>False</td>\n",
       "    </tr>\n",
       "    <tr>\n",
       "      <th>2</th>\n",
       "      <td>1</td>\n",
       "      <td>3</td>\n",
       "      <td>female</td>\n",
       "      <td>26.0</td>\n",
       "      <td>0</td>\n",
       "      <td>0</td>\n",
       "      <td>7.9250</td>\n",
       "      <td>S</td>\n",
       "      <td>Third</td>\n",
       "      <td>woman</td>\n",
       "      <td>False</td>\n",
       "      <td>NaN</td>\n",
       "      <td>Southampton</td>\n",
       "      <td>yes</td>\n",
       "      <td>True</td>\n",
       "    </tr>\n",
       "    <tr>\n",
       "      <th>3</th>\n",
       "      <td>1</td>\n",
       "      <td>1</td>\n",
       "      <td>female</td>\n",
       "      <td>35.0</td>\n",
       "      <td>1</td>\n",
       "      <td>0</td>\n",
       "      <td>53.1000</td>\n",
       "      <td>S</td>\n",
       "      <td>First</td>\n",
       "      <td>woman</td>\n",
       "      <td>False</td>\n",
       "      <td>C</td>\n",
       "      <td>Southampton</td>\n",
       "      <td>yes</td>\n",
       "      <td>False</td>\n",
       "    </tr>\n",
       "    <tr>\n",
       "      <th>4</th>\n",
       "      <td>0</td>\n",
       "      <td>3</td>\n",
       "      <td>male</td>\n",
       "      <td>35.0</td>\n",
       "      <td>0</td>\n",
       "      <td>0</td>\n",
       "      <td>8.0500</td>\n",
       "      <td>S</td>\n",
       "      <td>Third</td>\n",
       "      <td>man</td>\n",
       "      <td>True</td>\n",
       "      <td>NaN</td>\n",
       "      <td>Southampton</td>\n",
       "      <td>no</td>\n",
       "      <td>True</td>\n",
       "    </tr>\n",
       "  </tbody>\n",
       "</table>\n",
       "</div>"
      ],
      "text/plain": [
       "   survived  pclass     sex   age  sibsp  parch     fare embarked  class  \\\n",
       "0         0       3    male  22.0      1      0   7.2500        S  Third   \n",
       "1         1       1  female  38.0      1      0  71.2833        C  First   \n",
       "2         1       3  female  26.0      0      0   7.9250        S  Third   \n",
       "3         1       1  female  35.0      1      0  53.1000        S  First   \n",
       "4         0       3    male  35.0      0      0   8.0500        S  Third   \n",
       "\n",
       "     who  adult_male deck  embark_town alive  alone  \n",
       "0    man        True  NaN  Southampton    no  False  \n",
       "1  woman       False    C    Cherbourg   yes  False  \n",
       "2  woman       False  NaN  Southampton   yes   True  \n",
       "3  woman       False    C  Southampton   yes  False  \n",
       "4    man        True  NaN  Southampton    no   True  "
      ]
     },
     "execution_count": 1,
     "metadata": {},
     "output_type": "execute_result"
    }
   ],
   "source": [
    "# Import necessary libraries\n",
    "import pandas as pd\n",
    "import seaborn as sns\n",
    "from sklearn.model_selection import train_test_split\n",
    "from sklearn.compose import ColumnTransformer\n",
    "from sklearn.impute import SimpleImputer\n",
    "from sklearn.preprocessing import StandardScaler, OneHotEncoder\n",
    "from sklearn.pipeline import Pipeline\n",
    "from sklearn.linear_model import Perceptron\n",
    "\n",
    "# Load the Titanic dataset\n",
    "titanic_df = sns.load_dataset('titanic')\n",
    "titanic_df.head()"
   ]
  },
  {
   "cell_type": "markdown",
   "metadata": {},
   "source": [
    "## Data Exploration\n",
    "\n",
    "Before preprocessing and modeling, let's examine the structure of the dataset, identify missing values, and understand the type of data available."
   ]
  },
  {
   "cell_type": "code",
   "execution_count": 2,
   "metadata": {},
   "outputs": [
    {
     "name": "stdout",
     "output_type": "stream",
     "text": [
      "<class 'pandas.core.frame.DataFrame'>\n",
      "RangeIndex: 891 entries, 0 to 890\n",
      "Data columns (total 15 columns):\n",
      " #   Column       Non-Null Count  Dtype   \n",
      "---  ------       --------------  -----   \n",
      " 0   survived     891 non-null    int64   \n",
      " 1   pclass       891 non-null    int64   \n",
      " 2   sex          891 non-null    object  \n",
      " 3   age          714 non-null    float64 \n",
      " 4   sibsp        891 non-null    int64   \n",
      " 5   parch        891 non-null    int64   \n",
      " 6   fare         891 non-null    float64 \n",
      " 7   embarked     889 non-null    object  \n",
      " 8   class        891 non-null    category\n",
      " 9   who          891 non-null    object  \n",
      " 10  adult_male   891 non-null    bool    \n",
      " 11  deck         203 non-null    category\n",
      " 12  embark_town  889 non-null    object  \n",
      " 13  alive        891 non-null    object  \n",
      " 14  alone        891 non-null    bool    \n",
      "dtypes: bool(2), category(2), float64(2), int64(4), object(5)\n",
      "memory usage: 80.7+ KB\n"
     ]
    },
    {
     "data": {
      "text/plain": [
       "<AxesSubplot:title={'center':'Survival Distribution'}>"
      ]
     },
     "execution_count": 2,
     "metadata": {},
     "output_type": "execute_result"
    },
    {
     "data": {
      "image/png": "[encoded data removed]",
      "text/plain": [
       "<Figure size 640x480 with 1 Axes>"
      ]
     },
     "metadata": {},
     "output_type": "display_data"
    }
   ],
   "source": [
    "# Display dataset information to find any missing values and data types\n",
    "titanic_df.info()\n",
    "\n",
    "# Summary statistics for numerical features\n",
    "titanic_df.describe()\n",
    "\n",
    "# Count the distribution of the 'survived' target variable\n",
    "titanic_df['survived'].value_counts().plot(kind='bar', title='Survival Distribution')"
   ]
  },
  {
   "cell_type": "markdown",
   "metadata": {},
   "source": [
    "## Data Preprocessing\n",
    "\n",
    "Effective preprocessing improves model performance. We'll handle missing values, encode categorical variables, and scale numerical features."
   ]
  },
  {
   "cell_type": "code",
   "execution_count": 3,
   "metadata": {},
   "outputs": [],
   "source": [
    "# Define columns by type\n",
    "numerical_cols = ['age', 'fare', 'sibsp', 'parch']\n",
    "categorical_cols = ['sex', 'embarked', 'pclass']\n",
    "\n",
    "# Create preprocessing steps\n",
    "numerical_transformer = Pipeline(steps=[\n",
    "    ('imputer', SimpleImputer(strategy='mean')),  # Impute missing values with mean for numerical data\n",
    "    ('scaler', StandardScaler())                 # Normalize numerical data\n",
    "])\n",
    "\n",
    "categorical_transformer = Pipeline(steps=[\n",
    "    ('imputer', SimpleImputer(strategy='most_frequent')),  # Impute missing values with most frequent for categorical data\n",
    "    ('onehot', OneHotEncoder(handle_unknown='ignore'))     # Convert categorical data to one-hot vectors\n",
    "])\n",
    "\n",
    "# Combine preprocessing steps\n",
    "preprocessor = ColumnTransformer(\n",
    "    transformers=[\n",
    "        ('num', numerical_transformer, numerical_cols),\n",
    "        ('cat', categorical_transformer, categorical_cols)\n",
    "    ])\n",
    "\n",
    "# Creating a preprocessing and training pipeline\n",
    "model_pipeline = Pipeline(steps=[\n",
    "    ('preprocessor', preprocessor),\n",
    "    ('classifier', Perceptron(max_iter=1000, tol=1e-3))\n",
    "])"
   ]
  },
  {
   "cell_type": "markdown",
   "metadata": {},
   "source": [
    "## Model Training\n",
    "\n",
    "With preprocessing defined, we now train our Perceptron model using the prepared pipeline."
   ]
  },
  {
   "cell_type": "code",
   "execution_count": 4,
   "metadata": {},
   "outputs": [
    {
     "data": {
      "text/plain": [
       "Pipeline(steps=[('preprocessor',\n",
       "                 ColumnTransformer(transformers=[('num',\n",
       "                                                  Pipeline(steps=[('imputer',\n",
       "                                                                   SimpleImputer()),\n",
       "                                                                  ('scaler',\n",
       "                                                                   StandardScaler())]),\n",
       "                                                  ['age', 'fare', 'sibsp',\n",
       "                                                   'parch']),\n",
       "                                                 ('cat',\n",
       "                                                  Pipeline(steps=[('imputer',\n",
       "                                                                   SimpleImputer(strategy='most_frequent')),\n",
       "                                                                  ('onehot',\n",
       "                                                                   OneHotEncoder(handle_unknown='ignore'))]),\n",
       "                                                  ['sex', 'embarked',\n",
       "                                                   'pclass'])])),\n",
       "                ('classifier', Perceptron())])"
      ]
     },
     "execution_count": 4,
     "metadata": {},
     "output_type": "execute_result"
    }
   ],
   "source": [
    "# Split the data into training and test sets\n",
    "X = titanic_df.drop('survived', axis=1)\n",
    "y = titanic_df['survived']\n",
    "X_train, X_test, y_train, y_test = train_test_split(X, y, test_size=0.2, random_state=42)\n",
    "\n",
    "# Train the model\n",
    "model_pipeline.fit(X_train, y_train)"
   ]
  },
  {
   "cell_type": "markdown",
   "metadata": {},
   "source": [
    "## Model Evaluation\n",
    "\n",
    "Let's evaluate the model performance with standard classification metrics."
   ]
  },
  {
   "cell_type": "code",
   "execution_count": 5,
   "metadata": {},
   "outputs": [
    {
     "name": "stdout",
     "output_type": "stream",
     "text": [
      "Accuracy: 0.7541899441340782\n",
      "Confusion Matrix:\n",
      " [[79 26]\n",
      " [18 56]]\n",
      "Classification Report:\n",
      "               precision    recall  f1-score   support\n",
      "\n",
      "           0       0.81      0.75      0.78       105\n",
      "           1       0.68      0.76      0.72        74\n",
      "\n",
      "    accuracy                           0.75       179\n",
      "   macro avg       0.75      0.75      0.75       179\n",
      "weighted avg       0.76      0.75      0.76       179\n",
      "\n"
     ]
    }
   ],
   "source": [
    "from sklearn.metrics import accuracy_score, confusion_matrix, classification_report\n",
    "\n",
    "# Make predictions and evaluate the model\n",
    "y_pred = model_pipeline.predict(X_test)\n",
    "print(\"Accuracy:\", accuracy_score(y_test, y_pred))\n",
    "print(\"Confusion Matrix:\\n\", confusion_matrix(y_test, y_pred))\n",
    "print(\"Classification Report:\\n\", classification_report(y_test, y_pred))"
   ]
  },
  {
   "cell_type": "markdown",
   "metadata": {},
   "source": [
    "## Visualization\n",
    "\n",
    "To better understand the model's performance, we visualize the confusion matrix and the Receiver Operating Characteristic (ROC) curve. These visualizations help illustrate the model's effectiveness in classifying the survival outcomes and highlight any potential areas for improvement."
   ]
  },
  {
   "cell_type": "code",
   "execution_count": 6,
   "metadata": {},
   "outputs": [
    {
     "data": {
      "image/png": "[encoded data removed]",
      "text/plain": [
       "<Figure size 800x600 with 2 Axes>"
      ]
     },
     "metadata": {},
     "output_type": "display_data"
    }
   ],
   "source": [
    "import matplotlib.pyplot as plt\n",
    "\n",
    "# Generate the confusion matrix\n",
    "cm = confusion_matrix(y_test, y_pred)\n",
    "\n",
    "# Plotting the confusion matrix\n",
    "plt.figure(figsize=(8,6))\n",
    "sns.heatmap(cm, annot=True, fmt=\"d\", linewidths=.5, cmap=\"Blues\")\n",
    "plt.title(\"Confusion Matrix\")\n",
    "plt.xlabel(\"Predicted Label\")\n",
    "plt.ylabel(\"True Label\")\n",
    "plt.show()"
   ]
  },
  {
   "cell_type": "code",
   "execution_count": 7,
   "metadata": {},
   "outputs": [
    {
     "data": {
      "image/png": "[encoded data removed]",
      "text/plain": [
       "<Figure size 800x600 with 1 Axes>"
      ]
     },
     "metadata": {},
     "output_type": "display_data"
    }
   ],
   "source": [
    "from sklearn.metrics import roc_curve, auc, plot_precision_recall_curve, precision_recall_curve, average_precision_score\n",
    "\n",
    "# Calculate precision-recall curve\n",
    "precision, recall, _ = precision_recall_curve(y_test, model_pipeline.decision_function(X_test))\n",
    "\n",
    "# Calculate average precision\n",
    "average_precision = average_precision_score(y_test, model_pipeline.decision_function(X_test))\n",
    "\n",
    "# Plotting the precision-recall curve\n",
    "plt.figure(figsize=(8, 6))\n",
    "plt.step(recall, precision, where='post', label=f'Precision-Recall curve (area = {average_precision:.2f})')\n",
    "\n",
    "plt.xlabel('Recall')\n",
    "plt.ylabel('Precision')\n",
    "plt.ylim([0.0, 1.05])\n",
    "plt.xlim([0.0, 1.0])\n",
    "plt.title('Precision-Recall curve')\n",
    "plt.legend(loc=\"upper right\")\n",
    "plt.show()"
   ]
  },
  {
   "cell_type": "markdown",
   "metadata": {},
   "source": [
    "## Conclusion\n",
    "\n",
    "### Model's Performance Overview\n",
    "The analysis using the Perceptron model on the Titanic dataset yields an accuracy of approximately 75.4%, with the confusion matrix and precision-recall curve providing deeper insights:\n",
    "\n",
    "- **Confusion Matrix**: Our model correctly identified 79 non-survivors and 56 survivors. However, the presence of 26 false positives and 18 false negatives indicates a tendency of the model to predict survival more often than it should. This can be problematic, particularly if such a model were to be relied upon in safety-critical applications where predicting non-survival accurately is as crucial as predicting survival.\n",
    "\n",
    "- **Precision-Recall Curve**: The curve begins with a high level of precision, signifying that the model is highly confident and usually correct when it predicts survival. However, as recall increases, precision decreases. The area under the curve is 0.81, which indicates a good level of separability between the classes. This is a positive aspect, but the decline in precision suggests a need to balance the trade-off between recall and precision better.\n",
    "\n",
    "### Key Observations and Implications\n",
    "- The model is more precise in predicting non-survival outcomes, which could indicate a bias due to an imbalance in the training data or an inherent characteristic of the model itself.\n",
    "- The balanced distribution of false positives and false negatives demonstrates that the model does not excessively favor one class over the other, a desirable feature in classification tasks.\n",
    "\n",
    "### Strategies for Model Improvement\n",
    "- **Feature Engineering**: There is a need to explore the features further and potentially engineer new ones that could provide the model with more discriminative power.\n",
    "- **Model Optimization**: Experimenting with different thresholds and decision functions could improve the precision-recall balance.\n",
    "- **Alternative Models**: Given that the Perceptron is a basic linear classifier, employing more complex models such as logistic regression or decision trees might capture complex relationships in the data better.\n",
    "- **Class Imbalance**: Applying techniques such as SMOTE (Synthetic Minority Over-sampling Technique) for the minority class or adjusting class weights could help in achieving better precision for the positive class.\n",
    "\n",
    "### Final Thoughts\n",
    "The analysis clearly indicates both the utility and the limitations of the Perceptron model in predicting Titanic survivors. While the model provides a solid foundation and fair predictive power, there is considerable room for improvement, especially in enhancing precision without sacrificing recall. Future efforts should focus on a more nuanced approach to model selection, feature engineering, and threshold optimization to enhance the predictive quality of the model.\n",
    "\n",
    "In addressing class imbalance and refining the model's predictive abilities, we can aim to develop a more robust and reliable classification system for this historical dataset and, by extension, for similar binary classification challenges.\n"
   ]
  }
 ],
 "metadata": {
  "kernelspec": {
   "display_name": "base",
   "language": "python",
   "name": "python3"
  },
  "language_info": {
   "codemirror_mode": {
    "name": "ipython",
    "version": 3
   },
   "file_extension": ".py",
   "mimetype": "text/x-python",
   "name": "python",
   "nbconvert_exporter": "python",
   "pygments_lexer": "ipython3",
   "version": "3.9.18"
  }
 },
 "nbformat": 4,
 "nbformat_minor": 2
}
