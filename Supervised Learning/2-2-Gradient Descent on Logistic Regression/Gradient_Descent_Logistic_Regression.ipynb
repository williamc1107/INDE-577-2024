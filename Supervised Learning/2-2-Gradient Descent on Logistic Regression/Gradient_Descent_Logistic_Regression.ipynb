{
 "cells": [
  {
   "cell_type": "markdown",
   "metadata": {},
   "source": [
    "# Gradient Descent - Logistic Regression\n",
    "\n",
    "## Introduction\n",
    "In this Jupyter notebook, we apply gradient descent to optimize a logistic regression model for the classic Titanic dataset. \n",
    "We aim to predict passenger survival based on various features like ticket class, sex, age, and more."
   ]
  },
  {
   "cell_type": "markdown",
   "metadata": {},
   "source": [
    "## Algorithm Overview\n",
    "\n",
    "Gradient descent logistic regression is an optimization algorithm that refines the parameters of a logistic regression model, which is commonly used for binary classification problems. The logistic regression model predicts the probability of a binary outcome based on one or more predictor variables. Here are the key steps in this algorithm:\n",
    "\n",
    "### Model Definition\n",
    "We begin by defining the logistic regression model, which estimates the probability $P(Y=1|X)$ of the target variable $Y$ being in the default class (\"1\") given the input features $X$. The logistic function used for the prediction is given by:\n",
    "\n",
    "$$ P(Y=1|X) = \\frac{1}{1 + e^{-(b_0 + b_1X)}} $$\n",
    "\n",
    "where:\n",
    "- $b_0$ is the y-intercept or bias term.\n",
    "- $b_1$ represents the coefficient for the input feature $X$.\n",
    "- $e$ is the base of the natural logarithm.\n",
    "\n",
    "The output of this function is a probability that ranges between 0 and 1.\n",
    "\n",
    "### Cost Function\n",
    "To measure how well our model fits the training data, we use the binary cross-entropy loss or log loss as the cost function:\n",
    "\n",
    "$$ J(b_0, b_1) = -\\frac{1}{m} \\sum_{i=1}^{m} \\left[ y^{(i)} \\log(P(y^{(i)}|x^{(i)})) + (1 - y^{(i)}) \\log(1 - P(y^{(i)}|x^{(i)})) \\right] $$\n",
    "\n",
    "where:\n",
    "- $m$ is the number of training examples.\n",
    "- $y^{(i)}$ is the actual label for the $i$-th training example.\n",
    "- $P(y^{(i)}|x^{(i)})$ is the model's predicted probability that the $i$-th sample belongs to class 1.\n",
    "\n",
    "### Gradient Descent\n",
    "Gradient descent is a core part of the training process that involves iteratively adjusting the parameters $b_0$ and $b_1$ to minimize the cost function. This is done using the update rules:\n",
    "\n",
    "$$ b_0 := b_0 - \\alpha \\frac{\\partial J}{\\partial b_0} $$\n",
    "$$ b_1 := b_1 - \\alpha \\frac{\\partial J}{\\partial b_1} $$\n",
    "\n",
    "where $\\alpha$ is the learning rate, which controls the size of the steps we take towards the minimum of the cost function.\n",
    "\n",
    "### Partial Derivatives\n",
    "The gradients of the cost function with respect to the model parameters are computed as follows:\n",
    "\n",
    "$$ \\frac{\\partial J}{\\partial b_0} = \\frac{1}{m} \\sum_{i=1}^{m} (P(y^{(i)}|x^{(i)}) - y^{(i)}) $$\n",
    "$$ \\frac{\\partial J}{\\partial b_1} = \\frac{1}{m} \\sum_{i=1}^{m} (P(y^{(i)}|x^{(i)}) - y^{(i)}) x^{(i)} $$\n",
    "\n",
    "These partial derivatives represent the slopes of the cost function at any point and direct the update step towards the minimum.\n",
    "\n",
    "### Updating the Parameters\n",
    "We apply the update rules repeatedly for a number of iterations or until the changes to $b_0$ and $b_1$ are below a certain threshold, indicating convergence.\n",
    "\n",
    "### Prediction\n",
    "Once the model parameters are optimized, for a new set of input features, the model predicts the binary outcome (1 or 0). The decision rule is:\n",
    "\n",
    "- If $P(Y=1|X) > 0.5$, predict class \"1\".\n",
    "- If $P(Y=1|X) \\leq 0.5$, predict class \"0\".\n",
    "\n",
    "### Limitations and Assumptions\n",
    "While gradient descent logistic regression is effective for binary classification tasks, it assumes a linear relationship between the log odds of the outcome and the input features. The model can also be sensitive to outliers, which can disproportionately influence the position of the decision boundary.\n",
    "\n",
    "This detailed explanation outlines the theoretical underpinnings of logistic regression optimized by gradient descent, providing a foundation for its application to practical classification problems."
   ]
  },
  {
   "cell_type": "markdown",
   "metadata": {},
   "source": [
    "## Implementation\n",
    "Below, we load the Titanic dataset, preprocess it, and apply logistic regression using gradient descent to predict survival."
   ]
  },
  {
   "cell_type": "code",
   "execution_count": 40,
   "metadata": {},
   "outputs": [
    {
     "name": "stdout",
     "output_type": "stream",
     "text": [
      "   survived  pclass   age  sibsp  parch     fare  adult_male  alone  sex_male  \\\n",
      "0         0       3  22.0      1      0   7.2500        True  False         1   \n",
      "1         1       1  38.0      1      0  71.2833       False  False         0   \n",
      "2         1       3  26.0      0      0   7.9250       False   True         0   \n",
      "3         1       1  35.0      1      0  53.1000       False  False         0   \n",
      "4         0       3  35.0      0      0   8.0500        True   True         1   \n",
      "\n",
      "   embarked_Q  embarked_S  class_Second  class_Third  who_man  who_woman  \n",
      "0           0           1             0            1        1          0  \n",
      "1           0           0             0            0        0          1  \n",
      "2           0           1             0            1        0          1  \n",
      "3           0           1             0            0        0          1  \n",
      "4           0           1             0            1        1          0  \n"
     ]
    }
   ],
   "source": [
    "import pandas as pd\n",
    "import seaborn as sns\n",
    "from sklearn.model_selection import train_test_split\n",
    "\n",
    "# Load the dataset\n",
    "df = sns.load_dataset('titanic')\n",
    "\n",
    "# Drop columns with high missing values and irrelevant information\n",
    "df.drop(columns=['deck', 'embark_town', 'alive'], inplace=True)\n",
    "\n",
    "# Convert categorical variables to dummy variables\n",
    "df = pd.get_dummies(df, drop_first=True)\n",
    "\n",
    "# Handle missing values by imputation\n",
    "df.fillna(df.mean(), inplace=True)\n",
    "\n",
    "# Display the first few rows of the processed dataframe\n",
    "print(df.head())"
   ]
  },
  {
   "cell_type": "code",
   "execution_count": 41,
   "metadata": {},
   "outputs": [
    {
     "data": {
      "text/plain": [
       "Pipeline(steps=[('imputer', SimpleImputer()), ('scaler', StandardScaler()),\n",
       "                ('classifier',\n",
       "                 LogisticRegression(max_iter=1000, solver='saga'))])"
      ]
     },
     "execution_count": 41,
     "metadata": {},
     "output_type": "execute_result"
    }
   ],
   "source": [
    "from sklearn.linear_model import LogisticRegression\n",
    "from sklearn.preprocessing import StandardScaler\n",
    "from sklearn.pipeline import Pipeline\n",
    "from sklearn.impute import SimpleImputer\n",
    "\n",
    "# Prepare features and labels\n",
    "X = df.drop('survived', axis=1)\n",
    "y = df['survived']\n",
    "\n",
    "# Split the data\n",
    "X_train, X_test, y_train, y_test = train_test_split(X, y, test_size=0.2, random_state=42)\n",
    "\n",
    "# Create a logistic regression pipeline with preprocessing\n",
    "pipeline = Pipeline([\n",
    "    ('imputer', SimpleImputer(strategy='mean')),\n",
    "    ('scaler', StandardScaler()),\n",
    "    ('classifier', LogisticRegression(solver='saga', max_iter=1000))\n",
    "])\n",
    "\n",
    "# Train the model\n",
    "pipeline.fit(X_train, y_train)"
   ]
  },
  {
   "cell_type": "code",
   "execution_count": 42,
   "metadata": {},
   "outputs": [
    {
     "name": "stdout",
     "output_type": "stream",
     "text": [
      "Accuracy: 0.8156424581005587\n",
      "Confusion Matrix:\n",
      "[[92 13]\n",
      " [20 54]]\n",
      "Classification Report:\n",
      "              precision    recall  f1-score   support\n",
      "\n",
      "           0       0.82      0.88      0.85       105\n",
      "           1       0.81      0.73      0.77        74\n",
      "\n",
      "    accuracy                           0.82       179\n",
      "   macro avg       0.81      0.80      0.81       179\n",
      "weighted avg       0.82      0.82      0.81       179\n",
      "\n"
     ]
    }
   ],
   "source": [
    "from sklearn.metrics import accuracy_score, confusion_matrix, classification_report\n",
    "\n",
    "# Make predictions\n",
    "y_pred = pipeline.predict(X_test)\n",
    "\n",
    "# Evaluate the model\n",
    "accuracy = accuracy_score(y_test, y_pred)\n",
    "conf_matrix = confusion_matrix(y_test, y_pred)\n",
    "report = classification_report(y_test, y_pred)\n",
    "\n",
    "print(f'Accuracy: {accuracy}')\n",
    "print(f'Confusion Matrix:\\n{conf_matrix}')\n",
    "print(f'Classification Report:\\n{report}')"
   ]
  },
  {
   "cell_type": "code",
   "execution_count": 43,
   "metadata": {},
   "outputs": [
    {
     "name": "stdout",
     "output_type": "stream",
     "text": [
      "Accuracy: 0.8156424581005587\n",
      "Confusion Matrix:\n",
      "[[92 13]\n",
      " [20 54]]\n",
      "Classification Report:\n",
      "              precision    recall  f1-score   support\n",
      "\n",
      "           0       0.82      0.88      0.85       105\n",
      "           1       0.81      0.73      0.77        74\n",
      "\n",
      "    accuracy                           0.82       179\n",
      "   macro avg       0.81      0.80      0.81       179\n",
      "weighted avg       0.82      0.82      0.81       179\n",
      "\n"
     ]
    },
    {
     "data": {
      "image/png": "[encoded data removed]",
      "text/plain": [
       "<Figure size 1000x700 with 1 Axes>"
      ]
     },
     "metadata": {},
     "output_type": "display_data"
    }
   ],
   "source": [
    "import matplotlib.pyplot as plt\n",
    "\n",
    "# Assuming 'pipeline' is already fitted and 'X_test', 'y_test' are defined\n",
    "y_pred = pipeline.predict(X_test)\n",
    "\n",
    "# Calculate accuracy\n",
    "accuracy = accuracy_score(y_test, y_pred)\n",
    "\n",
    "# Generate the confusion matrix\n",
    "conf_matrix = confusion_matrix(y_test, y_pred)\n",
    "\n",
    "# Print results\n",
    "print(f'Accuracy: {accuracy}')\n",
    "print('Confusion Matrix:')\n",
    "print(conf_matrix)\n",
    "print('Classification Report:')\n",
    "print(classification_report(y_test, y_pred))\n",
    "\n",
    "# Plotting the confusion matrix\n",
    "plt.figure(figsize=(10, 7))\n",
    "sns.heatmap(conf_matrix, annot=True, fmt='d', cmap='Blues', cbar=False)\n",
    "plt.xlabel('Predicted Label')\n",
    "plt.ylabel('True Label')\n",
    "plt.title('Confusion Matrix Visualization')\n",
    "plt.show()"
   ]
  },
  {
   "cell_type": "markdown",
   "metadata": {},
   "source": [
    "## Conclusion\n",
    "\n",
    "### Model Performance\n",
    "Our logistic regression model achieved an accuracy of approximately 81.56% on the test dataset. This is a robust starting point, considering the simplicity of the model and the complexity of human survival factors during the Titanic disaster.\n",
    "\n",
    "### Confusion Matrix Insights\n",
    "The confusion matrix visualized above offers deeper insights:\n",
    "\n",
    "- True Negative (TN): 92 passengers were correctly predicted not to survive.\n",
    "- False Positive (FP): 13 passengers were incorrectly predicted to survive.\n",
    "- False Negative (FN): 20 passengers were incorrectly predicted not to survive.\n",
    "- True Positive (TP): 54 passengers were correctly predicted to survive.\n",
    "\n",
    "The model shows a higher number of true negatives than true positives, indicating a slightly better performance in predicting non-survival. The lower number of false negatives compared to false positives suggests that the model is more conservative in predicting survival, potentially an artifact of the underlying class distribution.\n",
    "\n",
    "### Classification Report Analysis\n",
    "The classification report gives us the following metrics:\n",
    "\n",
    "- **Precision for Non-Survivors (0)**: Out of all predictions for non-survival, 82% were correct.\n",
    "- **Recall for Non-Survivors (0)**: Out of all actual non-survivors, the model correctly identified 88%.\n",
    "- **F1-Score for Non-Survivors (0)**: The F1-score, a balance between precision and recall, is 85% for non-survivors.\n",
    "\n",
    "Similarly, for survivors (1):\n",
    "\n",
    "- **Precision for Survivors (1)**: Out of all predictions for survival, 81% were correct.\n",
    "- **Recall for Survivors (1)**: The model correctly identified 73% of all actual survivors.\n",
    "- **F1-Score for Survivors (1)**: The F1-score for survivors is 77%.\n",
    "\n",
    "The model demonstrates a balanced performance across both classes with a slight inclination towards correctly identifying non-survivors.\n",
    "\n",
    "### Implications and Future Work\n",
    "This model serves as a preliminary step in predictive analytics for binary classification problems. It is apparent that there is room for improvement, especially in reducing the number of false positives and false negatives. Future work might involve:\n",
    "\n",
    "- Feature engineering to better capture the underlying patterns in the data.\n",
    "- Hyperparameter tuning of the logistic regression model.\n",
    "- Experimenting with more complex models like Random Forests or Gradient Boosted Trees.\n",
    "- Applying class-weight adjustments to handle imbalances in the dataset.\n",
    "- Utilizing cross-validation to ensure the model's generalizability to new data.\n",
    "\n",
    "In conclusion, the results obtained provide valuable predictions about survival on the Titanic, showcasing the power of logistic regression when combined with gradient descent optimization. With further refinement, the predictive performance can likely be improved, leading to more accurate and insightful results."
   ]
  }
 ],
 "metadata": {
  "kernelspec": {
   "display_name": "base",
   "language": "python",
   "name": "python3"
  },
  "language_info": {
   "codemirror_mode": {
    "name": "ipython",
    "version": 3
   },
   "file_extension": ".py",
   "mimetype": "text/x-python",
   "name": "python",
   "nbconvert_exporter": "python",
   "pygments_lexer": "ipython3",
   "version": "3.9.19"
  }
 },
 "nbformat": 4,
 "nbformat_minor": 2
}
